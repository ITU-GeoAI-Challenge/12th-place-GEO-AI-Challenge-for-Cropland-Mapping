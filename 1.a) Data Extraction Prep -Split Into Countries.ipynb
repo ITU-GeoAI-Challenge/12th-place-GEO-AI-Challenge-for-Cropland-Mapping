{
 "cells": [
  {
   "cell_type": "code",
   "execution_count": 7,
   "id": "8258f9c1",
   "metadata": {},
   "outputs": [
    {
     "name": "stdout",
     "output_type": "stream",
     "text": [
      "Requirement already satisfied: geopy in c:\\users\\pc\\anaconda3\\lib\\site-packages (2.4.0)\n",
      "Requirement already satisfied: geographiclib<3,>=1.52 in c:\\users\\pc\\anaconda3\\lib\\site-packages (from geopy) (2.0)\n"
     ]
    },
    {
     "name": "stderr",
     "output_type": "stream",
     "text": [
      "WARNING: Ignoring invalid distribution -atplotlib (c:\\users\\pc\\anaconda3\\lib\\site-packages)\n",
      "WARNING: Ignoring invalid distribution -atplotlib (c:\\users\\pc\\anaconda3\\lib\\site-packages)\n",
      "WARNING: Ignoring invalid distribution -atplotlib (c:\\users\\pc\\anaconda3\\lib\\site-packages)\n",
      "WARNING: Ignoring invalid distribution -atplotlib (c:\\users\\pc\\anaconda3\\lib\\site-packages)\n",
      "WARNING: Ignoring invalid distribution -atplotlib (c:\\users\\pc\\anaconda3\\lib\\site-packages)\n",
      "WARNING: Ignoring invalid distribution -atplotlib (c:\\users\\pc\\anaconda3\\lib\\site-packages)\n"
     ]
    }
   ],
   "source": [
    "# from sklearn import metrics,model_selection,preprocessing,linear_model,ensemble,decomposition,tree\n",
    "from sklearn.metrics import mean_squared_error,mean_absolute_error, roc_auc_score,f1_score,roc_curve\n",
    "from sklearn.preprocessing import StandardScaler, RobustScaler,MinMaxScaler,PolynomialFeatures\n",
    "from sklearn.preprocessing import OrdinalEncoder,LabelEncoder,OrdinalEncoder,OneHotEncoder\n",
    "from sklearn.model_selection import train_test_split, KFold ,GridSearchCV\n",
    "from sklearn.model_selection import train_test_split\n",
    "#from imblearn.over_sampling import SMOTE\n",
    "\n",
    "from sklearn.ensemble import RandomForestRegressor,GradientBoostingRegressor\n",
    "from catboost import CatBoostRegressor,CatBoostClassifier\n",
    "from lightgbm import LGBMRegressor,LGBMClassifier\n",
    "from xgboost import XGBRegressor,XGBClassifier\n",
    "import geopandas as gpd\n",
    "import pandas as pd\n",
    "import folium\n",
    "!pip install geopy\n",
    "from geopy.geocoders import Nominatim\n",
    "\n",
    "\n",
    "import gc,itertools, pickle, re,time,warnings\n",
    "pd.set_option('display.max_columns', 100)\n",
    "pd.set_option('display.max_rows', 100)\n",
    "from random import choice, choices\n",
    "warnings.filterwarnings('ignore')\n",
    "import matplotlib.pyplot as plt\n",
    "#pip install pandas-profiling\n",
    "import pandas_profiling\n",
    "import seaborn as sns\n",
    "%matplotlib inline\n",
    "import numpy as np\n",
    "import os \n",
    "\n",
    "from functools import reduce\n",
    "from tqdm import tqdm\n",
    "from itertools import cycle\n",
    "from matplotlib_venn import venn2\n",
    "\n",
    "import xgboost as xgb\n",
    "import lightgbm as lgb\n",
    "from scipy import stats\n",
    "from functools import reduce\n",
    "seed=777\n",
    "plt.style.use(\"ggplot\")\n",
    "color_pal = plt.rcParams[\"axes.prop_cycle\"].by_key()[\"color\"]"
   ]
  },
  {
   "cell_type": "code",
   "execution_count": 10,
   "id": "c3bbf960",
   "metadata": {},
   "outputs": [
    {
     "name": "stdout",
     "output_type": "stream",
     "text": [
      "sklearn: 1.3.1\n",
      "geopandas: 0.13.2\n",
      "pandas: 1.5.3\n",
      "folium: 0.14.0\n",
      "geopy: 2.4.0\n",
      "xgboost: 1.7.5\n",
      "lightgbm: 3.3.5\n",
      "optuna: 3.2.0\n",
      "ee: 0.1.368\n"
     ]
    }
   ],
   "source": [
    "import sklearn\n",
    "import geopandas\n",
    "import pandas as pd\n",
    "import folium\n",
    "import geopy\n",
    "import xgboost\n",
    "import lightgbm\n",
    "import optuna\n",
    "#import reverse_geocoder as rg\n",
    "import ee\n",
    "\n",
    "modules = [sklearn, geopandas, pd, folium, geopy, xgboost, lightgbm, optuna,  ee]\n",
    "\n",
    "for module in modules:\n",
    "    print(f\"{module.__name__}: {module.__version__}\")\n"
   ]
  },
  {
   "cell_type": "code",
   "execution_count": 2,
   "id": "f861a0be",
   "metadata": {},
   "outputs": [
    {
     "name": "stdout",
     "output_type": "stream",
     "text": [
      "(1500, 4) (1500, 3)\n"
     ]
    },
    {
     "data": {
      "text/html": [
       "<div>\n",
       "<style scoped>\n",
       "    .dataframe tbody tr th:only-of-type {\n",
       "        vertical-align: middle;\n",
       "    }\n",
       "\n",
       "    .dataframe tbody tr th {\n",
       "        vertical-align: top;\n",
       "    }\n",
       "\n",
       "    .dataframe thead th {\n",
       "        text-align: right;\n",
       "    }\n",
       "</style>\n",
       "<table border=\"1\" class=\"dataframe\">\n",
       "  <thead>\n",
       "    <tr style=\"text-align: right;\">\n",
       "      <th></th>\n",
       "      <th>ID</th>\n",
       "      <th>Lat</th>\n",
       "      <th>Lon</th>\n",
       "      <th>Target</th>\n",
       "    </tr>\n",
       "  </thead>\n",
       "  <tbody>\n",
       "    <tr>\n",
       "      <th>0</th>\n",
       "      <td>ID_IKZ97LLTDN8W</td>\n",
       "      <td>14.102382</td>\n",
       "      <td>33.319233</td>\n",
       "      <td>0</td>\n",
       "    </tr>\n",
       "    <tr>\n",
       "      <th>1</th>\n",
       "      <td>ID_K5SS5L8BA8TF</td>\n",
       "      <td>14.110377</td>\n",
       "      <td>33.333426</td>\n",
       "      <td>1</td>\n",
       "    </tr>\n",
       "    <tr>\n",
       "      <th>2</th>\n",
       "      <td>ID_KM39ZSIZCC5A</td>\n",
       "      <td>14.112084</td>\n",
       "      <td>33.347350</td>\n",
       "      <td>0</td>\n",
       "    </tr>\n",
       "    <tr>\n",
       "      <th>3</th>\n",
       "      <td>ID_JRBSKS8MYPU6</td>\n",
       "      <td>14.113252</td>\n",
       "      <td>33.314202</td>\n",
       "      <td>0</td>\n",
       "    </tr>\n",
       "    <tr>\n",
       "      <th>4</th>\n",
       "      <td>ID_ERVODRIN6NQJ</td>\n",
       "      <td>14.119091</td>\n",
       "      <td>33.237935</td>\n",
       "      <td>0</td>\n",
       "    </tr>\n",
       "  </tbody>\n",
       "</table>\n",
       "</div>"
      ],
      "text/plain": [
       "                ID        Lat        Lon  Target\n",
       "0  ID_IKZ97LLTDN8W  14.102382  33.319233       0\n",
       "1  ID_K5SS5L8BA8TF  14.110377  33.333426       1\n",
       "2  ID_KM39ZSIZCC5A  14.112084  33.347350       0\n",
       "3  ID_JRBSKS8MYPU6  14.113252  33.314202       0\n",
       "4  ID_ERVODRIN6NQJ  14.119091  33.237935       0"
      ]
     },
     "execution_count": 2,
     "metadata": {},
     "output_type": "execute_result"
    }
   ],
   "source": [
    "# Read the training data from 'Train.csv' into a DataFrame called 'train'\n",
    "train = pd.read_csv(\"Train.csv\")\n",
    "\n",
    "# Read the test data from 'Test.csv' into a DataFrame called 'test'\n",
    "test = pd.read_csv(\"Test.csv\")\n",
    "\n",
    "# Print the shapes (number of rows and columns) of the train and test DataFrames\n",
    "print(train.shape, test.shape)\n",
    "\n",
    "# Display the first few rows of the 'train' DataFrame to inspect the data\n",
    "train.head()\n"
   ]
  },
  {
   "cell_type": "markdown",
   "id": "00839c8d",
   "metadata": {},
   "source": [
    "# DATA CLEANING"
   ]
  },
  {
   "cell_type": "code",
   "execution_count": 3,
   "id": "8513389e",
   "metadata": {},
   "outputs": [],
   "source": [
    "# Define a function 'rename_columns' that renames DataFrame columns to lowercase with underscores\n",
    "def rename_columns(df):\n",
    "    # Use the 'rename' method with a lambda function to convert column names\n",
    "    # to lowercase and replace spaces with underscores\n",
    "    df.rename(columns=lambda x: x.lower().replace(' ', '_'), inplace=True)\n",
    "    return df\n",
    "\n",
    "# Apply the 'rename_columns' function to the 'train' DataFrame\n",
    "train = rename_columns(train)\n",
    "\n",
    "# Apply the 'rename_columns' function to the 'test' DataFrame\n",
    "test = rename_columns(test)"
   ]
  },
  {
   "cell_type": "markdown",
   "id": "46abd82b",
   "metadata": {},
   "source": [
    "# FEATURE ENGINEERING"
   ]
  },
  {
   "cell_type": "code",
   "execution_count": 4,
   "id": "c9a32aab",
   "metadata": {},
   "outputs": [
    {
     "data": {
      "text/html": [
       "<div>\n",
       "<style scoped>\n",
       "    .dataframe tbody tr th:only-of-type {\n",
       "        vertical-align: middle;\n",
       "    }\n",
       "\n",
       "    .dataframe tbody tr th {\n",
       "        vertical-align: top;\n",
       "    }\n",
       "\n",
       "    .dataframe thead th {\n",
       "        text-align: right;\n",
       "    }\n",
       "</style>\n",
       "<table border=\"1\" class=\"dataframe\">\n",
       "  <thead>\n",
       "    <tr style=\"text-align: right;\">\n",
       "      <th></th>\n",
       "      <th>id</th>\n",
       "      <th>lat</th>\n",
       "      <th>lon</th>\n",
       "      <th>target</th>\n",
       "      <th>country</th>\n",
       "    </tr>\n",
       "  </thead>\n",
       "  <tbody>\n",
       "    <tr>\n",
       "      <th>0</th>\n",
       "      <td>ID_IKZ97LLTDN8W</td>\n",
       "      <td>14.102382</td>\n",
       "      <td>33.319233</td>\n",
       "      <td>0</td>\n",
       "      <td>sudan</td>\n",
       "    </tr>\n",
       "    <tr>\n",
       "      <th>1</th>\n",
       "      <td>ID_K5SS5L8BA8TF</td>\n",
       "      <td>14.110377</td>\n",
       "      <td>33.333426</td>\n",
       "      <td>1</td>\n",
       "      <td>sudan</td>\n",
       "    </tr>\n",
       "    <tr>\n",
       "      <th>2</th>\n",
       "      <td>ID_KM39ZSIZCC5A</td>\n",
       "      <td>14.112084</td>\n",
       "      <td>33.347350</td>\n",
       "      <td>0</td>\n",
       "      <td>sudan</td>\n",
       "    </tr>\n",
       "    <tr>\n",
       "      <th>3</th>\n",
       "      <td>ID_JRBSKS8MYPU6</td>\n",
       "      <td>14.113252</td>\n",
       "      <td>33.314202</td>\n",
       "      <td>0</td>\n",
       "      <td>sudan</td>\n",
       "    </tr>\n",
       "    <tr>\n",
       "      <th>4</th>\n",
       "      <td>ID_ERVODRIN6NQJ</td>\n",
       "      <td>14.119091</td>\n",
       "      <td>33.237935</td>\n",
       "      <td>0</td>\n",
       "      <td>sudan</td>\n",
       "    </tr>\n",
       "  </tbody>\n",
       "</table>\n",
       "</div>"
      ],
      "text/plain": [
       "                id        lat        lon  target country\n",
       "0  ID_IKZ97LLTDN8W  14.102382  33.319233       0   sudan\n",
       "1  ID_K5SS5L8BA8TF  14.110377  33.333426       1   sudan\n",
       "2  ID_KM39ZSIZCC5A  14.112084  33.347350       0   sudan\n",
       "3  ID_JRBSKS8MYPU6  14.113252  33.314202       0   sudan\n",
       "4  ID_ERVODRIN6NQJ  14.119091  33.237935       0   sudan"
      ]
     },
     "execution_count": 4,
     "metadata": {},
     "output_type": "execute_result"
    }
   ],
   "source": [
    "# Define a function 'get_country' to assign countries based on longitude ranges\n",
    "def get_country(df):\n",
    "    # Filter rows for Afghanistan based on longitude range and add 'country' column\n",
    "    afghan = df.loc[(df['lon'] > 55) & (df['lon'] < 100)]\n",
    "    afghan[\"country\"] = \"afghan\"\n",
    "    \n",
    "    # Filter rows for Iran based on longitude range and add 'country' column\n",
    "    iran = df.loc[(df['lon'] > 45) & (df['lon'] < 55)]\n",
    "    iran[\"country\"] = \"iran\"\n",
    "    \n",
    "    # Filter rows for Sudan based on longitude range and add 'country' column\n",
    "    sudan = df.loc[(df['lon'] > 30) & (df['lon'] < 40)]\n",
    "    sudan[\"country\"] = \"sudan\"\n",
    "    \n",
    "    # Concatenate the filtered DataFrames vertically to combine countries\n",
    "    df = pd.concat([sudan, iran, afghan], axis=0)\n",
    "\n",
    "    return df\n",
    "\n",
    "# Apply the 'get_country' function to the 'train' DataFrame\n",
    "train = get_country(train)\n",
    "\n",
    "# Apply the 'get_country' function to the 'test' DataFrame\n",
    "test = get_country(test)\n",
    "\n",
    "# Display the first few rows of the modified 'train' DataFrame\n",
    "train.head()"
   ]
  },
  {
   "cell_type": "code",
   "execution_count": 5,
   "id": "82bb434c",
   "metadata": {},
   "outputs": [],
   "source": [
    "# Save filtered data for Iran\n",
    "train[train[\"country\"] == \"iran\"].iloc[:, 0:4].to_csv(\"train_iran.csv\", index=False)\n",
    "test[test[\"country\"] == \"iran\"].iloc[:, 0:3].to_csv(\"test_iran.csv\", index=False)\n",
    "\n",
    "# Save filtered data for Sudan\n",
    "train[train[\"country\"] == \"sudan\"].iloc[:, 0:4].to_csv(\"train_sudan.csv\", index=False)\n",
    "test[test[\"country\"] == \"sudan\"].iloc[:, 0:3].to_csv(\"test_sudan.csv\", index=False)\n",
    "\n",
    "# Save filtered data for Afghanistan\n",
    "train[train[\"country\"] == \"afghan\"].iloc[:, 0:4].to_csv(\"train_afghan.csv\", index=False)\n",
    "test[test[\"country\"] == \"afghan\"].iloc[:, 0:3].to_csv(\"test_afghan.csv\", index=False)"
   ]
  }
 ],
 "metadata": {
  "kernelspec": {
   "display_name": "Python 3 (ipykernel)",
   "language": "python",
   "name": "python3"
  },
  "language_info": {
   "codemirror_mode": {
    "name": "ipython",
    "version": 3
   },
   "file_extension": ".py",
   "mimetype": "text/x-python",
   "name": "python",
   "nbconvert_exporter": "python",
   "pygments_lexer": "ipython3",
   "version": "3.9.13"
  }
 },
 "nbformat": 4,
 "nbformat_minor": 5
}
